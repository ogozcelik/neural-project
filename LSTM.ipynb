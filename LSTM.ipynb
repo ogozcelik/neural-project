{
 "cells": [
  {
   "cell_type": "markdown",
   "id": "bb202bf3-130a-4d60-87ec-1bf35ef39e49",
   "metadata": {},
   "source": [
    "# **LSTM for Caption Generation**\n",
    "\n",
    "Our goal is to implement an LSTM that receives feature vectors as the input and generates captions.\n",
    "\n",
    "## Setup"
   ]
  },
  {
   "cell_type": "code",
   "execution_count": 1,
   "id": "3b6653b1-f63a-4eff-9cbb-20d92cfd158d",
   "metadata": {},
   "outputs": [],
   "source": [
    "import numpy as np\n",
    "import random\n",
    "import tensorflow as tf\n",
    "import h5py\n",
    "import matplotlib.pyplot as plt"
   ]
  },
  {
   "cell_type": "markdown",
   "id": "de0bf5e8-74cf-4861-a3e1-1b3f0226d6dc",
   "metadata": {},
   "source": [
    "## Datasets\n",
    "First, we examine the training data:"
   ]
  },
  {
   "cell_type": "code",
   "execution_count": 2,
   "id": "3c5ad386-dc44-4b3f-b2f9-cd86834fc816",
   "metadata": {},
   "outputs": [
    {
     "name": "stdout",
     "output_type": "stream",
     "text": [
      "['train_cap', 'train_imid', 'train_ims', 'train_url', 'word_code']\n",
      "\n",
      "train_cap shape:  (400135, 17)\n",
      "\n",
      "train_imid shape:  (400135,)\n",
      "\n",
      "train_ims shape:  (82783, 512)\n",
      "\n",
      "Min word index: 0 , Max word index: 1003\n"
     ]
    }
   ],
   "source": [
    "trData = h5py.File('eee443_project_dataset_train.h5','r')\n",
    "print([key for key in trData.keys()])\n",
    "\n",
    "#Captions for training images (contains 17 indices from the vocabulary for each image,note that a single image can have multiple captions provided by different observers)\n",
    "train_cap = trData['train_cap'][:]\n",
    "print('\\ntrain_cap shape: ', train_cap.shape)\n",
    "train_size, cap_size = train_cap.shape\n",
    "tr_size = 10000 #If you don't want to train over the whole the dataset\n",
    "\n",
    "#The indices of training images (since a single image can be captioned several times, this image index is required to relate each caption with the corresponding image) \n",
    "train_imid = trData['train_imid'][:]\n",
    "print('\\ntrain_imid shape: ', train_imid.shape)\n",
    "\n",
    "\n",
    "#Pretrained feature vector for training images\n",
    "train_ims = trData['train_ims'][:] \n",
    "print('\\ntrain_ims shape: ', train_ims.shape)\n",
    "feature_size = train_ims.shape[1]\n",
    "feature_min, feature_max = np.min(train_ims), np.max(train_ims)\n",
    "\n",
    "#dictionary for converting words to vocabulary indices\n",
    "word_code = trData['word_code'][:]\n",
    "word_ind = np.array(word_code.tolist())[0,:].astype(int) #Word indices\n",
    "print('\\nMin word index:',np.min(word_ind),', Max word index:',np.max(word_ind))\n",
    "dictionary_size = len(word_ind)"
   ]
  },
  {
   "cell_type": "markdown",
   "id": "da975dee-ba47-4983-acd0-262d4247f99a",
   "metadata": {},
   "source": [
    "Now, we form the training input & target for LSTM:\n",
    " - The inputs are the feature vectors;\n",
    " - For each input, the target is a sequence of the form $ d[n]\\in \\mathbb{R}^{1\\times|{\\rm dictionary}|} $, $n = 0:|{\\rm caption}|-1$, where $d[n]$ is the one-hot encoding of the $n$-th word index in the given target caption. "
   ]
  },
  {
   "cell_type": "code",
   "execution_count": 3,
   "id": "42967b6d-b4ab-431b-acb7-c134d78210c6",
   "metadata": {},
   "outputs": [
    {
     "name": "stdout",
     "output_type": "stream",
     "text": [
      "-0.9460400938987732 0.7461137771606445\n"
     ]
    }
   ],
   "source": [
    "tr_shuffle = random.sample(range(train_size), tr_size) #for randomly shuffling the training set\n",
    "X_tr = np.zeros((tr_size, feature_size))\n",
    "Y_tr = np.zeros((tr_size, cap_size, dictionary_size), dtype = 'int32')\n",
    "for n in range(tr_size):\n",
    "    X_tr[n, :] = 2*(train_ims[train_imid[tr_shuffle[n]]-1,:] - feature_min)/(feature_max - feature_min) - 1\n",
    "    Y_tr[n, range(cap_size), train_cap[tr_shuffle[n],:]] = 1   \n",
    "print(np.min(X_tr), np.max(X_tr))    "
   ]
  },
  {
   "cell_type": "markdown",
   "id": "eb5f3a14-52f8-4cbd-8e9d-ff3618276d35",
   "metadata": {},
   "source": [
    "## Defining & Building the LSTM Network"
   ]
  },
  {
   "cell_type": "code",
   "execution_count": 4,
   "id": "5403eaa9-b153-426b-a4dd-aa14e332b939",
   "metadata": {},
   "outputs": [],
   "source": [
    "from tensorflow.keras.models import Sequential\n",
    "from tensorflow.keras.layers import Softmax, Dense, LSTM, RepeatVector\n",
    "\n",
    "sequence_size = cap_size #Lengths of LSTM input & output sequences\n",
    "n_lstm = 512 #Number of LTSM neurons\n",
    "initializer = tf.keras.initializers.GlorotUniform() #Xavier initializer\n",
    "\n",
    "#Building the model for caption generator network\n",
    "model_capgen = Sequential()\n",
    "model_capgen.add(RepeatVector(sequence_size))\n",
    "model_capgen.add(LSTM(n_lstm, return_sequences=True, time_major=False, kernel_initializer=initializer))\n",
    "model_capgen.add(Dense(n_lstm, activation='tanh', kernel_initializer=initializer))\n",
    "model_capgen.add(Dense(dictionary_size, kernel_initializer=initializer))\n",
    "model_capgen.add(Softmax())\n",
    "\n",
    "#Compile the model\n",
    "model_capgen.compile( optimizer = 'adam', \n",
    "                      loss = 'categorical_crossentropy',\n",
    "                      metrics = ['accuracy'])\n"
   ]
  },
  {
   "cell_type": "markdown",
   "id": "596ea7f6-162a-4b99-946f-cf7e142fe4f5",
   "metadata": {},
   "source": [
    "## Training the LSTM Network"
   ]
  },
  {
   "cell_type": "code",
   "execution_count": 5,
   "id": "75f30a1c-c075-412f-b679-6e54df4d3ff9",
   "metadata": {},
   "outputs": [
    {
     "name": "stdout",
     "output_type": "stream",
     "text": [
      "Train on 8500 samples, validate on 1500 samples\n",
      "Epoch 1/20\n",
      "8500/8500 [==============================] - 136s 16ms/sample - loss: 3.4442 - accuracy: 0.3999 - val_loss: 3.1307 - val_accuracy: 0.4384\n",
      "Epoch 2/20\n",
      "8500/8500 [==============================] - 142s 17ms/sample - loss: 3.1025 - accuracy: 0.4414 - val_loss: 3.0867 - val_accuracy: 0.4435\n",
      "Epoch 3/20\n",
      "8500/8500 [==============================] - 140s 16ms/sample - loss: 3.0785 - accuracy: 0.4421 - val_loss: 3.0885 - val_accuracy: 0.4418\n",
      "Epoch 4/20\n",
      "8500/8500 [==============================] - 145s 17ms/sample - loss: 3.0535 - accuracy: 0.4425 - val_loss: 3.0381 - val_accuracy: 0.4471\n",
      "Epoch 5/20\n",
      "8500/8500 [==============================] - 150s 18ms/sample - loss: 2.9928 - accuracy: 0.4435 - val_loss: 2.9864 - val_accuracy: 0.4470\n",
      "Epoch 6/20\n",
      "8500/8500 [==============================] - 143s 17ms/sample - loss: 2.9466 - accuracy: 0.4454 - val_loss: 2.9577 - val_accuracy: 0.4446\n",
      "Epoch 00006: early stopping\n"
     ]
    }
   ],
   "source": [
    "batchSize = 64 #Batch size\n",
    "epochMax = 20 #No. of epochs\n",
    "\n",
    "#Allow early stoppage based on the validation accuracy\n",
    "from tensorflow.keras.callbacks import EarlyStopping\n",
    "callback = tf.keras.callbacks.EarlyStopping(monitor='val_accuracy', patience=2, mode=\"auto\", verbose=1)\n",
    "\n",
    "history = model_capgen.fit(X_tr,\n",
    "                           Y_tr,\n",
    "                           batch_size = batchSize,\n",
    "                           epochs = epochMax,\n",
    "                           verbose = 1,\n",
    "                           validation_split = 0.15,\n",
    "                           callbacks = [callback])\n"
   ]
  },
  {
   "cell_type": "markdown",
   "id": "8c95f57a-abc9-4cfc-9441-34a7029ff598",
   "metadata": {},
   "source": [
    "Let's visualize the training results:"
   ]
  },
  {
   "cell_type": "code",
   "execution_count": 6,
   "id": "99707597-856b-4385-9315-91479bbc2b7b",
   "metadata": {},
   "outputs": [
    {
     "data": {
      "image/png": "[encoded data removed]",
      "text/plain": [
       "<Figure size 432x288 with 1 Axes>"
      ]
     },
     "metadata": {
      "needs_background": "light"
     },
     "output_type": "display_data"
    },
    {
     "data": {
      "image/png": "[encoded data removed]",
      "text/plain": [
       "<Figure size 432x288 with 1 Axes>"
      ]
     },
     "metadata": {
      "needs_background": "light"
     },
     "output_type": "display_data"
    }
   ],
   "source": [
    "#Accuracy over epochs\n",
    "plt.plot(history.history['accuracy'], marker = 'o', color = 'blue')\n",
    "plt.plot(history.history['val_accuracy'], marker = 'o', color = 'red')\n",
    "plt.xticks(range(1,1+len(history.history['loss'])))\n",
    "plt.title('Model Accuracy')\n",
    "plt.ylabel('Accuracy')\n",
    "plt.xlabel('Epoch')\n",
    "plt.legend(['train', 'validation'], loc='upper left')\n",
    "plt.show()\n",
    "\n",
    "#Loss over epochs\n",
    "plt.plot(history.history['loss'], marker = 'o', color = 'blue')\n",
    "plt.plot(history.history['val_loss'], marker = 'o', color = 'red')\n",
    "plt.xticks(range(1,1+len(history.history['loss'])))\n",
    "plt.title('Model Loss')\n",
    "plt.ylabel('Loss')\n",
    "plt.xlabel('Epoch')\n",
    "plt.legend(['train', 'validation'], loc='upper left')\n",
    "plt.show()"
   ]
  },
  {
   "cell_type": "markdown",
   "id": "f813a09a-d5c2-4bff-80f2-252c10e29757",
   "metadata": {},
   "source": [
    "## Testing the LSTM Network\n",
    "\n",
    "Let's load the test dataset:"
   ]
  },
  {
   "cell_type": "code",
   "execution_count": 7,
   "id": "caeec9d9-1ff0-4249-b83d-2869aa4545db",
   "metadata": {},
   "outputs": [
    {
     "name": "stdout",
     "output_type": "stream",
     "text": [
      "['test_caps', 'test_imid', 'test_ims', 'test_url']\n"
     ]
    }
   ],
   "source": [
    "tstData = h5py.File('eee443_project_dataset_test.h5','r')\n",
    "print([key for key in tstData.keys()])\n",
    "\n",
    "test_cap = tstData['test_caps'][:]\n",
    "test_imid = tstData['test_imid'][:]\n",
    "test_ims = tstData['test_ims'][:]\n",
    "\n",
    "test_size = test_cap.shape[0]\n",
    "tst_size = 10000 #If you don't want to use the whole dataset\n",
    "tstf_min, tstf_max = np.min(test_ims), np.max(test_ims)\n",
    "\n",
    "tst_shuffle = random.sample(range(test_size), tst_size) #for randomly shuffling the test set\n",
    "X_tst = np.zeros((tst_size, feature_size))\n",
    "Y_tst = np.zeros((tst_size, cap_size, dictionary_size), dtype = 'int32')\n",
    "for n in range(tst_size):\n",
    "    X_tst[n, :] = 2*(test_ims[test_imid[tst_shuffle[n]]-1,:]-tstf_min)/(tstf_max-tstf_min) - 1\n",
    "    Y_tst[n, range(cap_size), test_cap[tst_shuffle[n],:]] = 1"
   ]
  },
  {
   "cell_type": "markdown",
   "id": "ec24330b-be10-4fc2-b782-b5ca46fc9a82",
   "metadata": {},
   "source": [
    "Now, we evaluate the trained LSTM:"
   ]
  },
  {
   "cell_type": "code",
   "execution_count": 8,
   "id": "484162a2-c864-48d9-a74b-f101a8ee6b24",
   "metadata": {},
   "outputs": [
    {
     "name": "stdout",
     "output_type": "stream",
     "text": [
      "10000/10000 [==============================] - 52s 5ms/sample - loss: 3.4231 - accuracy: 0.4269\n"
     ]
    }
   ],
   "source": [
    "score = model_capgen.evaluate(X_tst,\n",
    "                              Y_tst,\n",
    "                              batch_size = 64)"
   ]
  },
  {
   "cell_type": "code",
   "execution_count": null,
   "id": "2cd48693-6f93-4c73-9e2e-90ae0d6d957f",
   "metadata": {},
   "outputs": [],
   "source": []
  }
 ],
 "metadata": {
  "kernelspec": {
   "display_name": "Python 3",
   "language": "python",
   "name": "python3"
  },
  "language_info": {
   "codemirror_mode": {
    "name": "ipython",
    "version": 3
   },
   "file_extension": ".py",
   "mimetype": "text/x-python",
   "name": "python",
   "nbconvert_exporter": "python",
   "pygments_lexer": "ipython3",
   "version": "3.6.13"
  }
 },
 "nbformat": 4,
 "nbformat_minor": 5
}
