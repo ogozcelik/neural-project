{
  "nbformat": 4,
  "nbformat_minor": 0,
  "metadata": {
    "colab": {
      "name": "extract_features.ipynb",
      "provenance": []
    },
    "kernelspec": {
      "name": "python3",
      "display_name": "Python 3"
    },
    "language_info": {
      "name": "python"
    }
  },
  "cells": [
    {
      "cell_type": "code",
      "source": [
        "# for feature extraction of test images"
      ],
      "metadata": {
        "id": "JV6_wkr7J6p9"
      },
      "execution_count": null,
      "outputs": []
    },
    {
      "cell_type": "code",
      "execution_count": null,
      "metadata": {
        "id": "069Ao2pEHokt"
      },
      "outputs": [],
      "source": [
        "import tensorflow as tf\n",
        "import numpy as np\n",
        "import json\n",
        "from tqdm import tqdm\n",
        "import os, sys, shutil\n",
        "import h5py\n",
        "from PIL import Image\n",
        "from keras.preprocessing import image\n",
        "from tensorflow.keras.applications.resnet50 import ResNet50\n",
        "from tensorflow.keras.applications.resnet50 import preprocess_input"
      ]
    },
    {
      "cell_type": "code",
      "source": [
        "from google.colab import drive \n",
        "drive.mount('/content/drive')"
      ],
      "metadata": {
        "id": "OJNJL8zQHsfA"
      },
      "execution_count": null,
      "outputs": []
    },
    {
      "cell_type": "code",
      "source": [
        "main_dir = # PATH TO THE SHARED FOLDER"
      ],
      "metadata": {
        "id": "viEjxgR6IPkL"
      },
      "execution_count": null,
      "outputs": []
    },
    {
      "cell_type": "code",
      "source": [
        "images_dir = os.path.join(main_dir, 'images_test/test_images')\n",
        "%cd {images_dir}"
      ],
      "metadata": {
        "id": "Wq5mZ3CzJxEq"
      },
      "execution_count": null,
      "outputs": []
    },
    {
      "cell_type": "code",
      "source": [
        "# if taking too long, wait until it timeouts and try again until it's faster. Proceed after that\n",
        "Image.open(os.path.join(images_dir, '0.jpg')).resize((224,224))"
      ],
      "metadata": {
        "id": "LvtPZxCnJPZR"
      },
      "execution_count": null,
      "outputs": []
    },
    {
      "cell_type": "code",
      "source": [
        "# see how many images by using this code. Everything loaded when len(images) becomes 35094.\n",
        "images = []\n",
        "with os.scandir(images_dir) as it:\n",
        "  for entry in tqdm(it):\n",
        "    if not entry.name.startswith('.') and entry.is_file():\n",
        "      images.append(entry)"
      ],
      "metadata": {
        "id": "xEEwpasXA5-C"
      },
      "execution_count": null,
      "outputs": []
    },
    {
      "cell_type": "code",
      "source": [
        "test_dest_paths = np.loadtxt(os.path.join(main_dir, 'test_dest_paths.txt'), dtype=str)\n",
        "test_image_paths = np.loadtxt(os.path.join(main_dir, 'test_image_paths.txt'), dtype=str)"
      ],
      "metadata": {
        "id": "ENMfPntLHy-M"
      },
      "execution_count": null,
      "outputs": []
    },
    {
      "cell_type": "code",
      "source": [
        "resnet50 = tf.keras.applications.resnet50.ResNet50(weights='imagenet')\n",
        "feature_extr = tf.keras.Model(resnet50.input,resnet50.layers[-2].output)"
      ],
      "metadata": {
        "id": "6mTShsdxJGGN"
      },
      "execution_count": null,
      "outputs": []
    },
    {
      "cell_type": "code",
      "source": [
        "# start with these, if runtime disconnects or you stop the cell, say cur_img = the value you see in progress bar\n",
        "n_ims = len(test_image_paths)\n",
        "cur_img = 0\n",
        "rest = n_ims - cur_img"
      ],
      "metadata": {
        "id": "Y2SoHo2oKgwb"
      },
      "execution_count": null,
      "outputs": []
    },
    {
      "cell_type": "code",
      "source": [
        "# make sure GPU is on \n",
        "with tf.device('/device:GPU:0'):\n",
        "  for img, dest in tqdm(zip(test_image_paths[cur_img:], test_dest_paths[cur_img:]), total=rest): \n",
        "    im = image.load_img(img, target_size=(224, 224))\n",
        "    x = image.img_to_array(im)\n",
        "    x = np.expand_dims(x, axis=0)\n",
        "    x = preprocess_input(x)\n",
        "    \n",
        "    feature = feature_extr.predict(x)\n",
        "    feature = np.reshape(feature, feature.shape[1])\n",
        "    np.savetxt(dest, feature, fmt='%s')"
      ],
      "metadata": {
        "id": "HxXG2F62JHo7"
      },
      "execution_count": null,
      "outputs": []
    }
  ]
}