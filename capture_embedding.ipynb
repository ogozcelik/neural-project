{
  "nbformat": 4,
  "nbformat_minor": 0,
  "metadata": {
    "colab": {
      "name": "capture_embedding.ipynb",
      "provenance": []
    },
    "kernelspec": {
      "name": "python3",
      "display_name": "Python 3"
    },
    "language_info": {
      "name": "python"
    }
  },
  "cells": [
    {
      "cell_type": "code",
      "source": [
        "! pip install fasttext"
      ],
      "metadata": {
        "colab": {
          "base_uri": "https://localhost:8080/"
        },
        "id": "YBlHSljlLZeL",
        "outputId": "67b3c44a-29f5-44fc-c037-d0fbf508d579"
      },
      "execution_count": 1,
      "outputs": [
        {
          "output_type": "stream",
          "name": "stdout",
          "text": [
            "Requirement already satisfied: fasttext in /usr/local/lib/python3.7/dist-packages (0.9.2)\n",
            "Requirement already satisfied: pybind11>=2.2 in /usr/local/lib/python3.7/dist-packages (from fasttext) (2.9.0)\n",
            "Requirement already satisfied: setuptools>=0.7.0 in /usr/local/lib/python3.7/dist-packages (from fasttext) (57.4.0)\n",
            "Requirement already satisfied: numpy in /usr/local/lib/python3.7/dist-packages (from fasttext) (1.19.5)\n"
          ]
        }
      ]
    },
    {
      "cell_type": "code",
      "source": [
        "# load fasttext pretrained word embedding\n",
        "import fasttext.util\n",
        "import h5py\n",
        "import os\n",
        "import numpy as np"
      ],
      "metadata": {
        "id": "KJmuoeGjLNzl"
      },
      "execution_count": 15,
      "outputs": []
    },
    {
      "cell_type": "code",
      "source": [
        "from google.colab import drive \n",
        "drive.mount('/content/drive')"
      ],
      "metadata": {
        "colab": {
          "base_uri": "https://localhost:8080/"
        },
        "id": "8Esq_f5vLXVI",
        "outputId": "eb44da2f-ccd0-48e2-8282-258d242245e7"
      },
      "execution_count": 3,
      "outputs": [
        {
          "output_type": "stream",
          "name": "stdout",
          "text": [
            "Drive already mounted at /content/drive; to attempt to forcibly remount, call drive.mount(\"/content/drive\", force_remount=True).\n"
          ]
        }
      ]
    },
    {
      "cell_type": "code",
      "source": [
        "%cd /content/drive/MyDrive/EEE443"
      ],
      "metadata": {
        "colab": {
          "base_uri": "https://localhost:8080/"
        },
        "id": "t_0xbJQJL0aI",
        "outputId": "f28cb678-d27c-4907-e56e-22ee9be0f83c"
      },
      "execution_count": 4,
      "outputs": [
        {
          "output_type": "stream",
          "name": "stdout",
          "text": [
            "/content/drive/MyDrive/EEE443\n"
          ]
        }
      ]
    },
    {
      "cell_type": "code",
      "source": [
        "ft = fasttext.load_model('cc.en.300.bin')"
      ],
      "metadata": {
        "colab": {
          "base_uri": "https://localhost:8080/"
        },
        "id": "dVSscBlcTqcO",
        "outputId": "6ad4aa50-8a7b-45e2-99f9-cfe9756832fd"
      },
      "execution_count": 6,
      "outputs": [
        {
          "output_type": "stream",
          "name": "stderr",
          "text": [
            "Warning : `load_model` does not return WordVectorModel or SupervisedModel any more, but a `FastText` object which is very similar.\n"
          ]
        }
      ]
    },
    {
      "cell_type": "code",
      "source": [
        "ft.get_dimension()"
      ],
      "metadata": {
        "colab": {
          "base_uri": "https://localhost:8080/"
        },
        "id": "q1ONIx_-VPvM",
        "outputId": "e60374b4-7179-4283-d23e-eaeb0139dbbc"
      },
      "execution_count": 7,
      "outputs": [
        {
          "output_type": "execute_result",
          "data": {
            "text/plain": [
              "300"
            ]
          },
          "metadata": {},
          "execution_count": 7
        }
      ]
    },
    {
      "cell_type": "code",
      "source": [
        "fasttext.util.reduce_model(ft, 100)"
      ],
      "metadata": {
        "id": "Kx9gaJEqTmLP"
      },
      "execution_count": null,
      "outputs": []
    },
    {
      "cell_type": "code",
      "source": [
        "main_dir = '/content/drive/MyDrive/EEE443'"
      ],
      "metadata": {
        "id": "mdXNnhq1Ve9c"
      },
      "execution_count": 13,
      "outputs": []
    },
    {
      "cell_type": "code",
      "source": [
        "with h5py.File(os.path.join(main_dir, 'eee443_project_dataset_train.h5'), 'r') as f:\n",
        "  # List all groups\n",
        "  print(\"Keys: %s\" % f.keys())\n",
        "  # get the data\n",
        "  # train_cap = np.array(list(f[list(f.keys())[0]]))  # captions\n",
        "  # train_imid = np.array(list(f[list(f.keys())[1]])) # indices of images\n",
        "  # train_ims = np.array(list(f[list(f.keys())[2]]))  # pretrained feature vector\n",
        "  # train_url = np.array(list(f[list(f.keys())[3]]))  # urls to images\n",
        "  word_code = np.array(list(f[list(f.keys())[4]]))  # vocabulary"
      ],
      "metadata": {
        "colab": {
          "base_uri": "https://localhost:8080/"
        },
        "id": "PbvhX6q5UFyE",
        "outputId": "75385c69-14e6-4417-efa3-91cf86b4379c"
      },
      "execution_count": 16,
      "outputs": [
        {
          "output_type": "stream",
          "name": "stdout",
          "text": [
            "Keys: <KeysViewHDF5 ['train_cap', 'train_imid', 'train_ims', 'train_url', 'word_code']>\n"
          ]
        }
      ]
    },
    {
      "cell_type": "code",
      "source": [
        "embedding_dim = 300"
      ],
      "metadata": {
        "id": "v1GeT7cfbG91"
      },
      "execution_count": 63,
      "outputs": []
    },
    {
      "cell_type": "code",
      "execution_count": 65,
      "metadata": {
        "id": "bDU-P8YgK0b3"
      },
      "outputs": [],
      "source": [
        "# Load fasttext vectors\n",
        "embedding_matrix = np.zeros((len(word_code[0]), embedding_dim))\n",
        "word_indices = word_code[0].tolist()\n",
        "words = word_code[0].dtype.names\n",
        "for id, word in zip(word_indices, words):\n",
        "    embedding_matrix[int(id)] = ft.get_word_vector(word)"
      ]
    },
    {
      "cell_type": "code",
      "source": [
        "embedding_matrix"
      ],
      "metadata": {
        "colab": {
          "base_uri": "https://localhost:8080/"
        },
        "id": "5RGcAeLDbfUr",
        "outputId": "505585ee-eaba-4631-ba52-4511d753e78d"
      },
      "execution_count": 68,
      "outputs": [
        {
          "output_type": "execute_result",
          "data": {
            "text/plain": [
              "array([[-0.00563671, -0.03322093, -0.02625482, ...,  0.02177877,\n",
              "        -0.02216286,  0.01864962],\n",
              "       [ 0.01944047, -0.02696474, -0.00559362, ...,  0.06489436,\n",
              "         0.06078905,  0.06755107],\n",
              "       [ 0.01125947,  0.00756783,  0.02220085, ...,  0.01059437,\n",
              "        -0.00083833, -0.01261212],\n",
              "       ...,\n",
              "       [ 0.06772691, -0.01193731,  0.01522741, ...,  0.20568258,\n",
              "         0.08324452,  0.03057719],\n",
              "       [-0.02317655,  0.002303  ,  0.01650605, ...,  0.02379119,\n",
              "         0.06015879, -0.08442228],\n",
              "       [ 0.03442568, -0.00211284, -0.01512419, ...,  0.02202259,\n",
              "         0.01219864,  0.0146045 ]])"
            ]
          },
          "metadata": {},
          "execution_count": 68
        }
      ]
    },
    {
      "cell_type": "code",
      "source": [
        "with open(os.path.join(main_dir, 'word_embeddings.npy'), 'wb') as file:\n",
        "    np.save(file, embedding_matrix)"
      ],
      "metadata": {
        "id": "FL5YunKIbs1F"
      },
      "execution_count": 69,
      "outputs": []
    }
  ]
}